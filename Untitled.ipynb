{
 "cells": [
  {
   "cell_type": "markdown",
   "id": "bae3af45-d073-433a-941d-31130872298b",
   "metadata": {},
   "source": [
    "# Investigating the correlation between coding experience and salary by performing the EDA, data cleaning and statistical testing"
   ]
  },
  {
   "cell_type": "markdown",
   "id": "9839d218-a86a-48f4-894a-db5038772d09",
   "metadata": {},
   "source": [
    "### Importing necessary libraries"
   ]
  },
  {
   "cell_type": "code",
   "execution_count": 1,
   "id": "2bd995b8-6860-4d0f-b9a9-96a17c6ad66d",
   "metadata": {},
   "outputs": [],
   "source": [
    "import pandas as pd\n",
    "import numpy as np\n",
    "import matplotlib.pyplot as plt\n",
    "import seaborn as sns\n",
    "from scipy import stats\n",
    "from sklearn import preprocessing, impute, feature_selection\n",
    "import statsmodels.api as sm\n",
    "import missingno as msno\n",
    "import plotly.express as px\n",
    "import plotly.graph_objects as go\n",
    "import xgboost as xgb\n",
    "import lightgbm as lgb\n",
    "from yellowbrick import features, regressor, classifier\n",
    "from imblearn import over_sampling, under_sampling\n"
   ]
  },
  {
   "cell_type": "markdown",
   "id": "d2878a69-d2c5-4d96-9ff2-a6a77361b649",
   "metadata": {},
   "source": [
    "### Performing EDA"
   ]
  },
  {
   "cell_type": "code",
   "execution_count": 2,
   "id": "e7abf27c-0a8e-45cc-91ae-5dbeefc0cdb5",
   "metadata": {},
   "outputs": [
    {
     "data": {
      "text/html": [
       "<div>\n",
       "<style scoped>\n",
       "    .dataframe tbody tr th:only-of-type {\n",
       "        vertical-align: middle;\n",
       "    }\n",
       "\n",
       "    .dataframe tbody tr th {\n",
       "        vertical-align: top;\n",
       "    }\n",
       "\n",
       "    .dataframe thead th {\n",
       "        text-align: right;\n",
       "    }\n",
       "</style>\n",
       "<table border=\"1\" class=\"dataframe\">\n",
       "  <thead>\n",
       "    <tr style=\"text-align: right;\">\n",
       "      <th></th>\n",
       "      <th>ResponseId</th>\n",
       "      <th>MainBranch</th>\n",
       "      <th>Employment</th>\n",
       "      <th>RemoteWork</th>\n",
       "      <th>CodingActivities</th>\n",
       "      <th>EdLevel</th>\n",
       "      <th>LearnCode</th>\n",
       "      <th>LearnCodeOnline</th>\n",
       "      <th>LearnCodeCoursesCert</th>\n",
       "      <th>YearsCode</th>\n",
       "      <th>...</th>\n",
       "      <th>TimeSearching</th>\n",
       "      <th>TimeAnswering</th>\n",
       "      <th>Onboarding</th>\n",
       "      <th>ProfessionalTech</th>\n",
       "      <th>TrueFalse_1</th>\n",
       "      <th>TrueFalse_2</th>\n",
       "      <th>TrueFalse_3</th>\n",
       "      <th>SurveyLength</th>\n",
       "      <th>SurveyEase</th>\n",
       "      <th>ConvertedCompYearly</th>\n",
       "    </tr>\n",
       "  </thead>\n",
       "  <tbody>\n",
       "    <tr>\n",
       "      <th>0</th>\n",
       "      <td>1</td>\n",
       "      <td>None of these</td>\n",
       "      <td>NaN</td>\n",
       "      <td>NaN</td>\n",
       "      <td>NaN</td>\n",
       "      <td>NaN</td>\n",
       "      <td>NaN</td>\n",
       "      <td>NaN</td>\n",
       "      <td>NaN</td>\n",
       "      <td>NaN</td>\n",
       "      <td>...</td>\n",
       "      <td>NaN</td>\n",
       "      <td>NaN</td>\n",
       "      <td>NaN</td>\n",
       "      <td>NaN</td>\n",
       "      <td>NaN</td>\n",
       "      <td>NaN</td>\n",
       "      <td>NaN</td>\n",
       "      <td>NaN</td>\n",
       "      <td>NaN</td>\n",
       "      <td>NaN</td>\n",
       "    </tr>\n",
       "    <tr>\n",
       "      <th>1</th>\n",
       "      <td>2</td>\n",
       "      <td>I am a developer by profession</td>\n",
       "      <td>Employed, full-time</td>\n",
       "      <td>Fully remote</td>\n",
       "      <td>Hobby;Contribute to open-source projects</td>\n",
       "      <td>NaN</td>\n",
       "      <td>NaN</td>\n",
       "      <td>NaN</td>\n",
       "      <td>NaN</td>\n",
       "      <td>NaN</td>\n",
       "      <td>...</td>\n",
       "      <td>NaN</td>\n",
       "      <td>NaN</td>\n",
       "      <td>NaN</td>\n",
       "      <td>NaN</td>\n",
       "      <td>NaN</td>\n",
       "      <td>NaN</td>\n",
       "      <td>NaN</td>\n",
       "      <td>Too long</td>\n",
       "      <td>Difficult</td>\n",
       "      <td>NaN</td>\n",
       "    </tr>\n",
       "  </tbody>\n",
       "</table>\n",
       "<p>2 rows × 79 columns</p>\n",
       "</div>"
      ],
      "text/plain": [
       "   ResponseId                      MainBranch           Employment  \\\n",
       "0           1                   None of these                  NaN   \n",
       "1           2  I am a developer by profession  Employed, full-time   \n",
       "\n",
       "     RemoteWork                          CodingActivities EdLevel LearnCode  \\\n",
       "0           NaN                                       NaN     NaN       NaN   \n",
       "1  Fully remote  Hobby;Contribute to open-source projects     NaN       NaN   \n",
       "\n",
       "  LearnCodeOnline LearnCodeCoursesCert YearsCode  ... TimeSearching  \\\n",
       "0             NaN                  NaN       NaN  ...           NaN   \n",
       "1             NaN                  NaN       NaN  ...           NaN   \n",
       "\n",
       "  TimeAnswering Onboarding ProfessionalTech TrueFalse_1 TrueFalse_2  \\\n",
       "0           NaN        NaN              NaN         NaN         NaN   \n",
       "1           NaN        NaN              NaN         NaN         NaN   \n",
       "\n",
       "  TrueFalse_3  SurveyLength SurveyEase ConvertedCompYearly  \n",
       "0         NaN           NaN        NaN                 NaN  \n",
       "1         NaN      Too long  Difficult                 NaN  \n",
       "\n",
       "[2 rows x 79 columns]"
      ]
     },
     "execution_count": 2,
     "metadata": {},
     "output_type": "execute_result"
    }
   ],
   "source": [
    "df_all = pd.read_csv('survey_results_public.csv')\n",
    "df_all.head(2)"
   ]
  },
  {
   "cell_type": "code",
   "execution_count": 3,
   "id": "ca8d5262-34aa-4cd3-b179-188af9402dc8",
   "metadata": {},
   "outputs": [
    {
     "data": {
      "text/html": [
       "<div>\n",
       "<style scoped>\n",
       "    .dataframe tbody tr th:only-of-type {\n",
       "        vertical-align: middle;\n",
       "    }\n",
       "\n",
       "    .dataframe tbody tr th {\n",
       "        vertical-align: top;\n",
       "    }\n",
       "\n",
       "    .dataframe thead th {\n",
       "        text-align: right;\n",
       "    }\n",
       "</style>\n",
       "<table border=\"1\" class=\"dataframe\">\n",
       "  <thead>\n",
       "    <tr style=\"text-align: right;\">\n",
       "      <th></th>\n",
       "      <th>ResponseId</th>\n",
       "      <th>CompTotal</th>\n",
       "      <th>VCHostingPersonal use</th>\n",
       "      <th>VCHostingProfessional use</th>\n",
       "      <th>WorkExp</th>\n",
       "      <th>ConvertedCompYearly</th>\n",
       "    </tr>\n",
       "  </thead>\n",
       "  <tbody>\n",
       "    <tr>\n",
       "      <th>count</th>\n",
       "      <td>73268.000000</td>\n",
       "      <td>3.842200e+04</td>\n",
       "      <td>0.0</td>\n",
       "      <td>0.0</td>\n",
       "      <td>36769.000000</td>\n",
       "      <td>3.807100e+04</td>\n",
       "    </tr>\n",
       "    <tr>\n",
       "      <th>mean</th>\n",
       "      <td>36634.500000</td>\n",
       "      <td>2.342434e+52</td>\n",
       "      <td>NaN</td>\n",
       "      <td>NaN</td>\n",
       "      <td>10.242378</td>\n",
       "      <td>1.707613e+05</td>\n",
       "    </tr>\n",
       "    <tr>\n",
       "      <th>std</th>\n",
       "      <td>21150.794099</td>\n",
       "      <td>4.591478e+54</td>\n",
       "      <td>NaN</td>\n",
       "      <td>NaN</td>\n",
       "      <td>8.706850</td>\n",
       "      <td>7.814132e+05</td>\n",
       "    </tr>\n",
       "    <tr>\n",
       "      <th>min</th>\n",
       "      <td>1.000000</td>\n",
       "      <td>0.000000e+00</td>\n",
       "      <td>NaN</td>\n",
       "      <td>NaN</td>\n",
       "      <td>0.000000</td>\n",
       "      <td>1.000000e+00</td>\n",
       "    </tr>\n",
       "    <tr>\n",
       "      <th>25%</th>\n",
       "      <td>18317.750000</td>\n",
       "      <td>3.000000e+04</td>\n",
       "      <td>NaN</td>\n",
       "      <td>NaN</td>\n",
       "      <td>4.000000</td>\n",
       "      <td>3.583200e+04</td>\n",
       "    </tr>\n",
       "    <tr>\n",
       "      <th>50%</th>\n",
       "      <td>36634.500000</td>\n",
       "      <td>7.750000e+04</td>\n",
       "      <td>NaN</td>\n",
       "      <td>NaN</td>\n",
       "      <td>8.000000</td>\n",
       "      <td>6.784500e+04</td>\n",
       "    </tr>\n",
       "    <tr>\n",
       "      <th>75%</th>\n",
       "      <td>54951.250000</td>\n",
       "      <td>1.540000e+05</td>\n",
       "      <td>NaN</td>\n",
       "      <td>NaN</td>\n",
       "      <td>15.000000</td>\n",
       "      <td>1.200000e+05</td>\n",
       "    </tr>\n",
       "    <tr>\n",
       "      <th>max</th>\n",
       "      <td>73268.000000</td>\n",
       "      <td>9.000000e+56</td>\n",
       "      <td>NaN</td>\n",
       "      <td>NaN</td>\n",
       "      <td>50.000000</td>\n",
       "      <td>5.000000e+07</td>\n",
       "    </tr>\n",
       "  </tbody>\n",
       "</table>\n",
       "</div>"
      ],
      "text/plain": [
       "         ResponseId     CompTotal  VCHostingPersonal use  \\\n",
       "count  73268.000000  3.842200e+04                    0.0   \n",
       "mean   36634.500000  2.342434e+52                    NaN   \n",
       "std    21150.794099  4.591478e+54                    NaN   \n",
       "min        1.000000  0.000000e+00                    NaN   \n",
       "25%    18317.750000  3.000000e+04                    NaN   \n",
       "50%    36634.500000  7.750000e+04                    NaN   \n",
       "75%    54951.250000  1.540000e+05                    NaN   \n",
       "max    73268.000000  9.000000e+56                    NaN   \n",
       "\n",
       "       VCHostingProfessional use       WorkExp  ConvertedCompYearly  \n",
       "count                        0.0  36769.000000         3.807100e+04  \n",
       "mean                         NaN     10.242378         1.707613e+05  \n",
       "std                          NaN      8.706850         7.814132e+05  \n",
       "min                          NaN      0.000000         1.000000e+00  \n",
       "25%                          NaN      4.000000         3.583200e+04  \n",
       "50%                          NaN      8.000000         6.784500e+04  \n",
       "75%                          NaN     15.000000         1.200000e+05  \n",
       "max                          NaN     50.000000         5.000000e+07  "
      ]
     },
     "execution_count": 3,
     "metadata": {},
     "output_type": "execute_result"
    }
   ],
   "source": [
    "df_all.describe()"
   ]
  },
  {
   "cell_type": "code",
   "execution_count": 4,
   "id": "af9a4041-90d7-453f-8140-c42002c06eb4",
   "metadata": {},
   "outputs": [
    {
     "data": {
      "text/plain": [
       "(73268, 79)"
      ]
     },
     "execution_count": 4,
     "metadata": {},
     "output_type": "execute_result"
    }
   ],
   "source": [
    "df_all.shape"
   ]
  },
  {
   "cell_type": "code",
   "execution_count": 5,
   "id": "0ece10b3-da3b-4368-85a5-94b738ca2dbd",
   "metadata": {},
   "outputs": [
    {
     "data": {
      "text/plain": [
       "ResponseId                 0\n",
       "MainBranch                 0\n",
       "Employment              1559\n",
       "RemoteWork             14310\n",
       "CodingActivities       14369\n",
       "                       ...  \n",
       "TrueFalse_2            37553\n",
       "TrueFalse_3            37519\n",
       "SurveyLength            2824\n",
       "SurveyEase              2760\n",
       "ConvertedCompYearly    35197\n",
       "Length: 79, dtype: int64"
      ]
     },
     "execution_count": 5,
     "metadata": {},
     "output_type": "execute_result"
    }
   ],
   "source": [
    "df_all.isna().sum()"
   ]
  },
  {
   "cell_type": "code",
   "execution_count": 6,
   "id": "8bc34103-a048-4050-a088-1ecc2ae46d66",
   "metadata": {},
   "outputs": [
    {
     "data": {
      "text/plain": [
       "array(['ResponseId', 'MainBranch', 'Employment', 'RemoteWork',\n",
       "       'CodingActivities', 'EdLevel', 'LearnCode', 'LearnCodeOnline',\n",
       "       'LearnCodeCoursesCert', 'YearsCode', 'YearsCodePro', 'DevType',\n",
       "       'OrgSize', 'PurchaseInfluence', 'BuyNewTool', 'Country',\n",
       "       'Currency', 'CompTotal', 'CompFreq', 'LanguageHaveWorkedWith',\n",
       "       'LanguageWantToWorkWith', 'DatabaseHaveWorkedWith',\n",
       "       'DatabaseWantToWorkWith', 'PlatformHaveWorkedWith',\n",
       "       'PlatformWantToWorkWith', 'WebframeHaveWorkedWith',\n",
       "       'WebframeWantToWorkWith', 'MiscTechHaveWorkedWith',\n",
       "       'MiscTechWantToWorkWith', 'ToolsTechHaveWorkedWith',\n",
       "       'ToolsTechWantToWorkWith', 'NEWCollabToolsHaveWorkedWith',\n",
       "       'NEWCollabToolsWantToWorkWith', 'OpSysProfessional use',\n",
       "       'OpSysPersonal use', 'VersionControlSystem', 'VCInteraction',\n",
       "       'VCHostingPersonal use', 'VCHostingProfessional use',\n",
       "       'OfficeStackAsyncHaveWorkedWith', 'OfficeStackAsyncWantToWorkWith',\n",
       "       'OfficeStackSyncHaveWorkedWith', 'OfficeStackSyncWantToWorkWith',\n",
       "       'Blockchain', 'NEWSOSites', 'SOVisitFreq', 'SOAccount',\n",
       "       'SOPartFreq', 'SOComm', 'Age', 'Gender', 'Trans', 'Sexuality',\n",
       "       'Ethnicity', 'Accessibility', 'MentalHealth', 'TBranch', 'ICorPM',\n",
       "       'WorkExp', 'Knowledge_1', 'Knowledge_2', 'Knowledge_3',\n",
       "       'Knowledge_4', 'Knowledge_5', 'Knowledge_6', 'Knowledge_7',\n",
       "       'Frequency_1', 'Frequency_2', 'Frequency_3', 'TimeSearching',\n",
       "       'TimeAnswering', 'Onboarding', 'ProfessionalTech', 'TrueFalse_1',\n",
       "       'TrueFalse_2', 'TrueFalse_3', 'SurveyLength', 'SurveyEase',\n",
       "       'ConvertedCompYearly'], dtype=object)"
      ]
     },
     "execution_count": 6,
     "metadata": {},
     "output_type": "execute_result"
    }
   ],
   "source": [
    "df_all.columns.values"
   ]
  },
  {
   "cell_type": "markdown",
   "id": "29312fca-1c86-4688-8ff2-58baee348141",
   "metadata": {},
   "source": [
    "### For this project i do not need some of these columns as they are not relevant to investigation. these columns will be dropped."
   ]
  },
  {
   "cell_type": "code",
   "execution_count": 7,
   "id": "a74422a3-e04d-4e98-b312-a8b343ed2db8",
   "metadata": {},
   "outputs": [],
   "source": [
    "df_some= df_all.copy()"
   ]
  },
  {
   "cell_type": "code",
   "execution_count": 8,
   "id": "d3ce32ba-05ba-4b69-96d3-e389449e775f",
   "metadata": {},
   "outputs": [
    {
     "data": {
      "text/plain": [
       "(73268, 79)"
      ]
     },
     "execution_count": 8,
     "metadata": {},
     "output_type": "execute_result"
    }
   ],
   "source": [
    "df_some.shape"
   ]
  },
  {
   "cell_type": "code",
   "execution_count": 9,
   "id": "f4a03afe-9a39-4569-af91-bf093dfa3d88",
   "metadata": {},
   "outputs": [],
   "source": [
    "columns_to_keep = ['Age', 'Gender', 'ConvertedCompYearly', 'YearsCode', 'YearsCodePro', 'Country']\n",
    "df = df_some[columns_to_keep]"
   ]
  },
  {
   "cell_type": "code",
   "execution_count": 10,
   "id": "9c544953-66c1-4fe8-b653-54977825690b",
   "metadata": {},
   "outputs": [
    {
     "data": {
      "text/plain": [
       "(73268, 6)"
      ]
     },
     "execution_count": 10,
     "metadata": {},
     "output_type": "execute_result"
    }
   ],
   "source": [
    "df.shape"
   ]
  },
  {
   "cell_type": "code",
   "execution_count": 11,
   "id": "ed3ba9cc-3f51-4778-ba2d-dab5ed82e5da",
   "metadata": {},
   "outputs": [
    {
     "data": {
      "text/html": [
       "<div>\n",
       "<style scoped>\n",
       "    .dataframe tbody tr th:only-of-type {\n",
       "        vertical-align: middle;\n",
       "    }\n",
       "\n",
       "    .dataframe tbody tr th {\n",
       "        vertical-align: top;\n",
       "    }\n",
       "\n",
       "    .dataframe thead th {\n",
       "        text-align: right;\n",
       "    }\n",
       "</style>\n",
       "<table border=\"1\" class=\"dataframe\">\n",
       "  <thead>\n",
       "    <tr style=\"text-align: right;\">\n",
       "      <th></th>\n",
       "      <th>Age</th>\n",
       "      <th>Gender</th>\n",
       "      <th>ConvertedCompYearly</th>\n",
       "      <th>YearsCode</th>\n",
       "      <th>YearsCodePro</th>\n",
       "      <th>Country</th>\n",
       "    </tr>\n",
       "  </thead>\n",
       "  <tbody>\n",
       "    <tr>\n",
       "      <th>0</th>\n",
       "      <td>NaN</td>\n",
       "      <td>NaN</td>\n",
       "      <td>NaN</td>\n",
       "      <td>NaN</td>\n",
       "      <td>NaN</td>\n",
       "      <td>NaN</td>\n",
       "    </tr>\n",
       "    <tr>\n",
       "      <th>1</th>\n",
       "      <td>NaN</td>\n",
       "      <td>NaN</td>\n",
       "      <td>NaN</td>\n",
       "      <td>NaN</td>\n",
       "      <td>NaN</td>\n",
       "      <td>Canada</td>\n",
       "    </tr>\n",
       "    <tr>\n",
       "      <th>2</th>\n",
       "      <td>25-34 years old</td>\n",
       "      <td>Man</td>\n",
       "      <td>40205.0</td>\n",
       "      <td>14</td>\n",
       "      <td>5</td>\n",
       "      <td>United Kingdom of Great Britain and Northern I...</td>\n",
       "    </tr>\n",
       "    <tr>\n",
       "      <th>3</th>\n",
       "      <td>35-44 years old</td>\n",
       "      <td>Man</td>\n",
       "      <td>215232.0</td>\n",
       "      <td>20</td>\n",
       "      <td>17</td>\n",
       "      <td>Israel</td>\n",
       "    </tr>\n",
       "    <tr>\n",
       "      <th>4</th>\n",
       "      <td>25-34 years old</td>\n",
       "      <td>NaN</td>\n",
       "      <td>NaN</td>\n",
       "      <td>8</td>\n",
       "      <td>3</td>\n",
       "      <td>United States of America</td>\n",
       "    </tr>\n",
       "  </tbody>\n",
       "</table>\n",
       "</div>"
      ],
      "text/plain": [
       "               Age Gender  ConvertedCompYearly YearsCode YearsCodePro  \\\n",
       "0              NaN    NaN                  NaN       NaN          NaN   \n",
       "1              NaN    NaN                  NaN       NaN          NaN   \n",
       "2  25-34 years old    Man              40205.0        14            5   \n",
       "3  35-44 years old    Man             215232.0        20           17   \n",
       "4  25-34 years old    NaN                  NaN         8            3   \n",
       "\n",
       "                                             Country  \n",
       "0                                                NaN  \n",
       "1                                             Canada  \n",
       "2  United Kingdom of Great Britain and Northern I...  \n",
       "3                                             Israel  \n",
       "4                           United States of America  "
      ]
     },
     "execution_count": 11,
     "metadata": {},
     "output_type": "execute_result"
    }
   ],
   "source": [
    "df.head(5)"
   ]
  },
  {
   "cell_type": "code",
   "execution_count": 12,
   "id": "a91c34aa-97f1-4548-ac3c-075fa98d4c58",
   "metadata": {},
   "outputs": [
    {
     "data": {
      "text/plain": [
       "Age                     2322\n",
       "Gender                  2415\n",
       "ConvertedCompYearly    35197\n",
       "YearsCode               1937\n",
       "YearsCodePro           21435\n",
       "Country                 1497\n",
       "dtype: int64"
      ]
     },
     "execution_count": 12,
     "metadata": {},
     "output_type": "execute_result"
    }
   ],
   "source": [
    "df.isna().sum()"
   ]
  },
  {
   "cell_type": "markdown",
   "id": "1b08522c-a310-4617-9aa5-92ab264a1433",
   "metadata": {},
   "source": [
    "### The missing values for Country,age,gender,years code are very small, so i am going to drop all the rows that have these missing values "
   ]
  },
  {
   "cell_type": "code",
   "execution_count": 13,
   "id": "19136d44-c494-4603-8d09-07211e5733e0",
   "metadata": {},
   "outputs": [],
   "source": [
    "df=df.dropna(subset=['Country','Age','Gender','YearsCode'])"
   ]
  },
  {
   "cell_type": "code",
   "execution_count": 14,
   "id": "5bd2fe5b-2fc7-4f5b-a3be-3db074be53a0",
   "metadata": {},
   "outputs": [
    {
     "data": {
      "text/plain": [
       "(70280, 6)"
      ]
     },
     "execution_count": 14,
     "metadata": {},
     "output_type": "execute_result"
    }
   ],
   "source": [
    "df.shape"
   ]
  },
  {
   "cell_type": "code",
   "execution_count": 15,
   "id": "76e81c1d-e7e9-4559-b20a-9502636cc8ff",
   "metadata": {},
   "outputs": [
    {
     "data": {
      "text/plain": [
       "Age                        0\n",
       "Gender                     0\n",
       "ConvertedCompYearly    32441\n",
       "YearsCode                  0\n",
       "YearsCodePro           19145\n",
       "Country                    0\n",
       "dtype: int64"
      ]
     },
     "execution_count": 15,
     "metadata": {},
     "output_type": "execute_result"
    }
   ],
   "source": [
    "df.isna().sum()"
   ]
  },
  {
   "cell_type": "code",
   "execution_count": 16,
   "id": "c26188f0-08e7-4e80-8e89-658712dddc30",
   "metadata": {},
   "outputs": [
    {
     "data": {
      "text/plain": [
       "YearsCodePro\n",
       "3                     4206\n",
       "5                     4014\n",
       "2                     3893\n",
       "4                     3841\n",
       "10                    3280\n",
       "6                     3146\n",
       "7                     2737\n",
       "8                     2619\n",
       "1                     2600\n",
       "Less than 1 year      1946\n",
       "15                    1791\n",
       "12                    1691\n",
       "9                     1555\n",
       "20                    1439\n",
       "11                    1359\n",
       "14                    1035\n",
       "22                     918\n",
       "16                     911\n",
       "13                     902\n",
       "25                     867\n",
       "18                     778\n",
       "17                     712\n",
       "30                     560\n",
       "23                     455\n",
       "24                     445\n",
       "21                     421\n",
       "19                     375\n",
       "26                     311\n",
       "27                     283\n",
       "35                     258\n",
       "28                     247\n",
       "32                     219\n",
       "40                     173\n",
       "29                     123\n",
       "33                     122\n",
       "31                     120\n",
       "34                     112\n",
       "36                     110\n",
       "37                      97\n",
       "38                      94\n",
       "42                      66\n",
       "45                      51\n",
       "39                      50\n",
       "41                      40\n",
       "More than 50 years      40\n",
       "43                      30\n",
       "44                      26\n",
       "48                      18\n",
       "46                      16\n",
       "50                      14\n",
       "47                      10\n",
       "49                       9\n",
       "Name: count, dtype: int64"
      ]
     },
     "execution_count": 16,
     "metadata": {},
     "output_type": "execute_result"
    }
   ],
   "source": [
    "df['YearsCodePro'].value_counts()"
   ]
  },
  {
   "cell_type": "code",
   "execution_count": 17,
   "id": "fe252cf7-3923-4fd4-a7e7-4283bdc2e5f1",
   "metadata": {},
   "outputs": [],
   "source": [
    "df['YearsCodePro'].replace({'More than 50 years':50,'Less than 1 year':0}, inplace=True)"
   ]
  },
  {
   "cell_type": "code",
   "execution_count": 18,
   "id": "82b6d2f5-9259-4fb0-a38c-bf79fea6eed3",
   "metadata": {},
   "outputs": [],
   "source": [
    "df['YearsCodePro'].fillna(df['YearsCodePro'].median(), inplace=True)"
   ]
  },
  {
   "cell_type": "code",
   "execution_count": 19,
   "id": "287cf9cf-1c47-4672-af7e-8c17987e2dcc",
   "metadata": {},
   "outputs": [
    {
     "data": {
      "text/plain": [
       "ConvertedCompYearly\n",
       "150000.0     389\n",
       "200000.0     360\n",
       "120000.0     337\n",
       "63986.0      302\n",
       "100000.0     275\n",
       "            ... \n",
       "32501.0        1\n",
       "7250000.0      1\n",
       "1365132.0      1\n",
       "76472.0        1\n",
       "110245.0       1\n",
       "Name: count, Length: 7886, dtype: int64"
      ]
     },
     "execution_count": 19,
     "metadata": {},
     "output_type": "execute_result"
    }
   ],
   "source": [
    "df['ConvertedCompYearly'].value_counts()"
   ]
  },
  {
   "cell_type": "code",
   "execution_count": 20,
   "id": "e07bc050-7068-4548-8e90-691878e1d183",
   "metadata": {},
   "outputs": [
    {
     "data": {
      "text/plain": [
       "Age                        0\n",
       "Gender                     0\n",
       "ConvertedCompYearly    32441\n",
       "YearsCode                  0\n",
       "YearsCodePro               0\n",
       "Country                    0\n",
       "dtype: int64"
      ]
     },
     "execution_count": 20,
     "metadata": {},
     "output_type": "execute_result"
    }
   ],
   "source": [
    "df.isna().sum()"
   ]
  },
  {
   "cell_type": "markdown",
   "id": "08831607-b2f3-4218-b41e-140044352e01",
   "metadata": {},
   "source": []
  },
  {
   "cell_type": "code",
   "execution_count": 21,
   "id": "95413c90-8313-4fbf-9d48-e434cacb4fb5",
   "metadata": {},
   "outputs": [],
   "source": [
    "median_comp = df['ConvertedCompYearly'].median()\n",
    "df['ConvertedCompYearly'].fillna(median_comp, inplace=True)"
   ]
  },
  {
   "cell_type": "code",
   "execution_count": 22,
   "id": "225b879b-a035-4616-b1ab-db47ebfb1198",
   "metadata": {},
   "outputs": [
    {
     "data": {
      "text/plain": [
       "Age                    0\n",
       "Gender                 0\n",
       "ConvertedCompYearly    0\n",
       "YearsCode              0\n",
       "YearsCodePro           0\n",
       "Country                0\n",
       "dtype: int64"
      ]
     },
     "execution_count": 22,
     "metadata": {},
     "output_type": "execute_result"
    }
   ],
   "source": [
    "df.isna().sum()"
   ]
  },
  {
   "cell_type": "markdown",
   "id": "4606ef96-392e-4739-bba9-76cc841ff776",
   "metadata": {},
   "source": [
    "### columns definitions\n",
    "- comptotal is yearly total compensation/salary\n",
    "- Yearcode: numbers of years coding for learning and professionaly.\n",
    "- yearscodepro: number of years coding professionally"
   ]
  },
  {
   "cell_type": "code",
   "execution_count": 23,
   "id": "1d9d3429-876c-495b-91f6-ee2e3450b462",
   "metadata": {},
   "outputs": [],
   "source": [
    "pd.options.display.float_format = '{:.0f}'.format\n",
    "\n",
    "df['ConvertedCompYearly'] = pd.to_numeric(df['ConvertedCompYearly'], errors='coerce')\n",
    "df['YearsCode'] = pd.to_numeric(df['YearsCode'], errors='coerce')\n",
    "df['YearsCodePro'] = pd.to_numeric(df['YearsCodePro'], errors='coerce')\n",
    "\n"
   ]
  },
  {
   "cell_type": "code",
   "execution_count": 24,
   "id": "4dcc56ed-331a-44fd-996a-64bf4fa9235c",
   "metadata": {},
   "outputs": [
    {
     "data": {
      "text/html": [
       "<div>\n",
       "<style scoped>\n",
       "    .dataframe tbody tr th:only-of-type {\n",
       "        vertical-align: middle;\n",
       "    }\n",
       "\n",
       "    .dataframe tbody tr th {\n",
       "        vertical-align: top;\n",
       "    }\n",
       "\n",
       "    .dataframe thead th {\n",
       "        text-align: right;\n",
       "    }\n",
       "</style>\n",
       "<table border=\"1\" class=\"dataframe\">\n",
       "  <thead>\n",
       "    <tr style=\"text-align: right;\">\n",
       "      <th></th>\n",
       "      <th>ConvertedCompYearly</th>\n",
       "      <th>YearsCode</th>\n",
       "      <th>YearsCodePro</th>\n",
       "    </tr>\n",
       "  </thead>\n",
       "  <tbody>\n",
       "    <tr>\n",
       "      <th>count</th>\n",
       "      <td>70280</td>\n",
       "      <td>68733</td>\n",
       "      <td>70280</td>\n",
       "    </tr>\n",
       "    <tr>\n",
       "      <th>mean</th>\n",
       "      <td>123151</td>\n",
       "      <td>12</td>\n",
       "      <td>9</td>\n",
       "    </tr>\n",
       "    <tr>\n",
       "      <th>std</th>\n",
       "      <td>576475</td>\n",
       "      <td>10</td>\n",
       "      <td>8</td>\n",
       "    </tr>\n",
       "    <tr>\n",
       "      <th>min</th>\n",
       "      <td>1</td>\n",
       "      <td>1</td>\n",
       "      <td>0</td>\n",
       "    </tr>\n",
       "    <tr>\n",
       "      <th>25%</th>\n",
       "      <td>63448</td>\n",
       "      <td>5</td>\n",
       "      <td>5</td>\n",
       "    </tr>\n",
       "    <tr>\n",
       "      <th>50%</th>\n",
       "      <td>67845</td>\n",
       "      <td>10</td>\n",
       "      <td>7</td>\n",
       "    </tr>\n",
       "    <tr>\n",
       "      <th>75%</th>\n",
       "      <td>73140</td>\n",
       "      <td>17</td>\n",
       "      <td>10</td>\n",
       "    </tr>\n",
       "    <tr>\n",
       "      <th>max</th>\n",
       "      <td>50000000</td>\n",
       "      <td>50</td>\n",
       "      <td>50</td>\n",
       "    </tr>\n",
       "  </tbody>\n",
       "</table>\n",
       "</div>"
      ],
      "text/plain": [
       "       ConvertedCompYearly  YearsCode  YearsCodePro\n",
       "count                70280      68733         70280\n",
       "mean                123151         12             9\n",
       "std                 576475         10             8\n",
       "min                      1          1             0\n",
       "25%                  63448          5             5\n",
       "50%                  67845         10             7\n",
       "75%                  73140         17            10\n",
       "max               50000000         50            50"
      ]
     },
     "execution_count": 24,
     "metadata": {},
     "output_type": "execute_result"
    }
   ],
   "source": [
    "df.describe()"
   ]
  },
  {
   "cell_type": "code",
   "execution_count": 25,
   "id": "311414f7-4cf6-4026-9f0f-88d7d964fd6e",
   "metadata": {},
   "outputs": [
    {
     "data": {
      "text/plain": [
       "50000000.0"
      ]
     },
     "execution_count": 25,
     "metadata": {},
     "output_type": "execute_result"
    }
   ],
   "source": [
    "df['ConvertedCompYearly'].max()"
   ]
  },
  {
   "cell_type": "code",
   "execution_count": 26,
   "id": "4f7d9296-9446-421d-b10a-4280a39f59b7",
   "metadata": {},
   "outputs": [
    {
     "data": {
      "image/png": "[encoded data removed]",
      "text/plain": [
       "<Figure size 1000x600 with 1 Axes>"
      ]
     },
     "metadata": {},
     "output_type": "display_data"
    }
   ],
   "source": [
    "\n",
    "plt.figure(figsize=(10, 6))\n",
    "\n",
    "sns.boxplot(data=df[['ConvertedCompYearly', 'YearsCode', 'YearsCodePro']])\n",
    "\n",
    "plt.title('Boxplots of CompTotal, YearsCode, and YearsCodePro')\n",
    "plt.xlabel('Columns')\n",
    "plt.ylabel('Values')\n",
    "\n",
    "plt.xticks(rotation=45)\n",
    "plt.show()\n"
   ]
  },
  {
   "cell_type": "code",
   "execution_count": 27,
   "id": "4cba4eb0-8a90-462d-87c6-434a751d1b92",
   "metadata": {},
   "outputs": [
    {
     "data": {
      "image/png": "[encoded data removed]",
      "text/plain": [
       "<Figure size 800x550 with 1 Axes>"
      ]
     },
     "metadata": {},
     "output_type": "display_data"
    }
   ],
   "source": [
    "import matplotlib.pyplot as plt\n",
    "\n",
    "plt.hist(df['ConvertedCompYearly'], bins=20)  # Adjust the number of bins as needed\n",
    "plt.title('Histogram of CompTotal')\n",
    "plt.xlabel('CompTotal')\n",
    "plt.ylabel('Frequency')\n",
    "plt.show()\n"
   ]
  },
  {
   "cell_type": "code",
   "execution_count": 28,
   "id": "9e5ae72d-cb90-4cf1-9402-951b4fe8e410",
   "metadata": {},
   "outputs": [
    {
     "data": {
      "text/plain": [
       "ConvertedCompYearly\n",
       "50000000    1\n",
       "44790396    1\n",
       "35000000    1\n",
       "32500000    1\n",
       "28853768    1\n",
       "22500000    2\n",
       "18000000    1\n",
       "15000000    2\n",
       "14250000    1\n",
       "14000000    2\n",
       "13000000    3\n",
       "12500000    3\n",
       "12400000    1\n",
       "12000000    1\n",
       "11655500    1\n",
       "11616500    1\n",
       "11500000    1\n",
       "11000000    2\n",
       "10931800    1\n",
       "10500000    1\n",
       "10400000    1\n",
       "10000000    8\n",
       "9950000     1\n",
       "9750000     1\n",
       "9500000     2\n",
       "9396000     1\n",
       "9328340     1\n",
       "9250000     6\n",
       "9000000     6\n",
       "8950000     1\n",
       "8800000     2\n",
       "8750000     2\n",
       "8650000     1\n",
       "8492550     1\n",
       "8250000     1\n",
       "8000000     5\n",
       "7800000     1\n",
       "7750000     2\n",
       "7600000     1\n",
       "7500000     9\n",
       "Name: count, dtype: int64"
      ]
     },
     "execution_count": 28,
     "metadata": {},
     "output_type": "execute_result"
    }
   ],
   "source": [
    "comp_total_counts_sorted = df['ConvertedCompYearly'].value_counts().sort_index(ascending=False)\n",
    "\n",
    "comp_total_counts_sorted.head(40)"
   ]
  },
  {
   "cell_type": "code",
   "execution_count": 29,
   "id": "8fd133ae-5772-4b65-9cb7-b387c352b379",
   "metadata": {},
   "outputs": [
    {
     "data": {
      "text/plain": [
       "ConvertedCompYearly\n",
       "1      5\n",
       "3      3\n",
       "4      6\n",
       "5      3\n",
       "7      2\n",
       "8      4\n",
       "9      1\n",
       "12    20\n",
       "13     1\n",
       "14     2\n",
       "20     1\n",
       "21     1\n",
       "23     1\n",
       "24    10\n",
       "26     1\n",
       "31     2\n",
       "33     1\n",
       "34     2\n",
       "36    13\n",
       "37     1\n",
       "38     2\n",
       "39     1\n",
       "40     1\n",
       "43     1\n",
       "44     1\n",
       "45     1\n",
       "46     1\n",
       "48    12\n",
       "49     1\n",
       "50     1\n",
       "53     2\n",
       "57     1\n",
       "58     1\n",
       "59     1\n",
       "60     6\n",
       "63     1\n",
       "67     1\n",
       "68     4\n",
       "69     2\n",
       "72     1\n",
       "Name: count, dtype: int64"
      ]
     },
     "execution_count": 29,
     "metadata": {},
     "output_type": "execute_result"
    }
   ],
   "source": [
    "comp_total_counts_sorted = df['ConvertedCompYearly'].value_counts().sort_index()\n",
    "\n",
    "comp_total_counts_sorted.head(40)"
   ]
  },
  {
   "cell_type": "markdown",
   "id": "d27e2257-9e17-419d-84a6-25c7b676dc23",
   "metadata": {},
   "source": [
    "### There may be of outliers both in max and min positions of comptotal columns, i can't replace them with median as it would create bias is testing. \n",
    "So,after analyzing and researching about developer total salary, I have found that min salary for developer does not reach under 20000 who are actually working as full time developer at the worst case and max_salary of actual developer is upto 1 million. The threesholds are not crossed 99 percent of time. Assuming that i am going to conduct investigation and filter data"
   ]
  },
  {
   "cell_type": "code",
   "execution_count": 30,
   "id": "fb44786f-c250-45d0-9c84-ff602f9b6486",
   "metadata": {},
   "outputs": [],
   "source": [
    "min_threeshold = 20000\n",
    "df = df[df['ConvertedCompYearly'] >= 20000]"
   ]
  },
  {
   "cell_type": "code",
   "execution_count": 31,
   "id": "3ab36f39-d049-4072-90df-62c2efa461d8",
   "metadata": {},
   "outputs": [],
   "source": [
    "max_threeshold = 1000000\n",
    "df = df[df['ConvertedCompYearly'] <= max_threeshold]"
   ]
  },
  {
   "cell_type": "code",
   "execution_count": 32,
   "id": "bcdaf4f3-e9ee-4823-b719-79f8509b2e74",
   "metadata": {},
   "outputs": [
    {
     "data": {
      "text/plain": [
       "ConvertedCompYearly\n",
       "20000    14\n",
       "20004     3\n",
       "20030     1\n",
       "20040     1\n",
       "20071     2\n",
       "20088     7\n",
       "20100     3\n",
       "20124     5\n",
       "20129     1\n",
       "20150     1\n",
       "20160     2\n",
       "20196    12\n",
       "20220     2\n",
       "20244     4\n",
       "20262     8\n",
       "20268     1\n",
       "20280     2\n",
       "20281     2\n",
       "20292     1\n",
       "20294     1\n",
       "20304     1\n",
       "20316     3\n",
       "20340     1\n",
       "20349     1\n",
       "20400    11\n",
       "20424     1\n",
       "20436     1\n",
       "20460     6\n",
       "20472    27\n",
       "20484     8\n",
       "20509     1\n",
       "20520     1\n",
       "20532     1\n",
       "20556     2\n",
       "20568     1\n",
       "20580     1\n",
       "20604     5\n",
       "20616     1\n",
       "20636    23\n",
       "20640     2\n",
       "Name: count, dtype: int64"
      ]
     },
     "execution_count": 32,
     "metadata": {},
     "output_type": "execute_result"
    }
   ],
   "source": [
    "comp_total_counts_sorted = df['ConvertedCompYearly'].value_counts().sort_index()\n",
    "\n",
    "comp_total_counts_sorted.head(40)"
   ]
  },
  {
   "cell_type": "code",
   "execution_count": 34,
   "id": "35b0904a-19bd-4ed0-bf52-a1c6df317beb",
   "metadata": {},
   "outputs": [
    {
     "data": {
      "text/html": [
       "<div>\n",
       "<style scoped>\n",
       "    .dataframe tbody tr th:only-of-type {\n",
       "        vertical-align: middle;\n",
       "    }\n",
       "\n",
       "    .dataframe tbody tr th {\n",
       "        vertical-align: top;\n",
       "    }\n",
       "\n",
       "    .dataframe thead th {\n",
       "        text-align: right;\n",
       "    }\n",
       "</style>\n",
       "<table border=\"1\" class=\"dataframe\">\n",
       "  <thead>\n",
       "    <tr style=\"text-align: right;\">\n",
       "      <th></th>\n",
       "      <th>ConvertedCompYearly</th>\n",
       "      <th>YearsCode</th>\n",
       "      <th>YearsCodePro</th>\n",
       "    </tr>\n",
       "  </thead>\n",
       "  <tbody>\n",
       "    <tr>\n",
       "      <th>count</th>\n",
       "      <td>64147</td>\n",
       "      <td>62664</td>\n",
       "      <td>64147</td>\n",
       "    </tr>\n",
       "    <tr>\n",
       "      <th>mean</th>\n",
       "      <td>88569</td>\n",
       "      <td>13</td>\n",
       "      <td>9</td>\n",
       "    </tr>\n",
       "    <tr>\n",
       "      <th>std</th>\n",
       "      <td>86433</td>\n",
       "      <td>10</td>\n",
       "      <td>8</td>\n",
       "    </tr>\n",
       "    <tr>\n",
       "      <th>min</th>\n",
       "      <td>20000</td>\n",
       "      <td>1</td>\n",
       "      <td>0</td>\n",
       "    </tr>\n",
       "    <tr>\n",
       "      <th>25%</th>\n",
       "      <td>67845</td>\n",
       "      <td>5</td>\n",
       "      <td>5</td>\n",
       "    </tr>\n",
       "    <tr>\n",
       "      <th>50%</th>\n",
       "      <td>67845</td>\n",
       "      <td>10</td>\n",
       "      <td>7</td>\n",
       "    </tr>\n",
       "    <tr>\n",
       "      <th>75%</th>\n",
       "      <td>75384</td>\n",
       "      <td>17</td>\n",
       "      <td>11</td>\n",
       "    </tr>\n",
       "    <tr>\n",
       "      <th>max</th>\n",
       "      <td>1000000</td>\n",
       "      <td>50</td>\n",
       "      <td>50</td>\n",
       "    </tr>\n",
       "  </tbody>\n",
       "</table>\n",
       "</div>"
      ],
      "text/plain": [
       "       ConvertedCompYearly  YearsCode  YearsCodePro\n",
       "count                64147      62664         64147\n",
       "mean                 88569         13             9\n",
       "std                  86433         10             8\n",
       "min                  20000          1             0\n",
       "25%                  67845          5             5\n",
       "50%                  67845         10             7\n",
       "75%                  75384         17            11\n",
       "max                1000000         50            50"
      ]
     },
     "execution_count": 34,
     "metadata": {},
     "output_type": "execute_result"
    }
   ],
   "source": [
    "df.describe()"
   ]
  },
  {
   "cell_type": "code",
   "execution_count": 35,
   "id": "80b9eb5d-cac5-49e1-9566-f27d4161fe84",
   "metadata": {},
   "outputs": [
    {
     "data": {
      "text/plain": [
       "(64147, 6)"
      ]
     },
     "execution_count": 35,
     "metadata": {},
     "output_type": "execute_result"
    }
   ],
   "source": [
    "df.shape"
   ]
  },
  {
   "cell_type": "code",
   "execution_count": 38,
   "id": "bfe6ee2f-866d-450b-bebf-e943cf439a85",
   "metadata": {},
   "outputs": [
    {
     "data": {
      "text/plain": [
       "Country\n",
       "United States of America                                12663\n",
       "India                                                    5244\n",
       "Germany                                                  5216\n",
       "United Kingdom of Great Britain and Northern Ireland     4006\n",
       "Canada                                                   2363\n",
       "                                                        ...  \n",
       "Brunei Darussalam                                           1\n",
       "Djibouti                                                    1\n",
       "Solomon Islands                                             1\n",
       "Saint Kitts and Nevis                                       1\n",
       "Gambia                                                      1\n",
       "Name: count, Length: 178, dtype: int64"
      ]
     },
     "execution_count": 38,
     "metadata": {},
     "output_type": "execute_result"
    }
   ],
   "source": [
    "df['Country'].value_counts()"
   ]
  },
  {
   "cell_type": "code",
   "execution_count": 39,
   "id": "2e0c3e68-03d0-4136-bc90-fa77749e74bc",
   "metadata": {},
   "outputs": [
    {
     "data": {
      "text/plain": [
       "Index(['Age', 'Gender', 'ConvertedCompYearly', 'YearsCode', 'YearsCodePro',\n",
       "       'Country'],\n",
       "      dtype='object')"
      ]
     },
     "execution_count": 39,
     "metadata": {},
     "output_type": "execute_result"
    }
   ],
   "source": [
    "df.columns"
   ]
  },
  {
   "cell_type": "markdown",
   "id": "e186cd68-f85c-43c1-9500-73ee766ac148",
   "metadata": {},
   "source": [
    "### Now my data is clean. I am going to perform statis"
   ]
  },
  {
   "cell_type": "code",
   "execution_count": null,
   "id": "b4618394-0dad-4d4e-96c8-1736606251e0",
   "metadata": {},
   "outputs": [],
   "source": []
  },
  {
   "cell_type": "code",
   "execution_count": null,
   "id": "ea9ae964-2046-4528-b97b-040fd5d0a64d",
   "metadata": {},
   "outputs": [],
   "source": []
  },
  {
   "cell_type": "code",
   "execution_count": null,
   "id": "854d6b4a-aaef-4f63-8d9c-fb0852da42c4",
   "metadata": {},
   "outputs": [],
   "source": []
  },
  {
   "cell_type": "code",
   "execution_count": null,
   "id": "264caaaf-b1e0-4fae-a6bf-a24360881e57",
   "metadata": {},
   "outputs": [],
   "source": []
  },
  {
   "cell_type": "code",
   "execution_count": null,
   "id": "94573bd7-93c6-402a-b7ac-3850ca7da942",
   "metadata": {},
   "outputs": [],
   "source": []
  },
  {
   "cell_type": "code",
   "execution_count": null,
   "id": "a2f703c9-8889-43dd-917f-148ae246fb0d",
   "metadata": {},
   "outputs": [],
   "source": []
  },
  {
   "cell_type": "code",
   "execution_count": null,
   "id": "cd0e2047-a66c-48fb-a408-54b612a6bf01",
   "metadata": {},
   "outputs": [],
   "source": []
  },
  {
   "cell_type": "code",
   "execution_count": null,
   "id": "1c49a088-4f49-48b1-943e-09323677d99a",
   "metadata": {},
   "outputs": [],
   "source": []
  },
  {
   "cell_type": "code",
   "execution_count": null,
   "id": "b550df62-4c9d-42de-b1ff-69fac954a3e1",
   "metadata": {},
   "outputs": [],
   "source": []
  },
  {
   "cell_type": "code",
   "execution_count": null,
   "id": "2c51250c-c16b-4178-8331-46bb3d12b617",
   "metadata": {},
   "outputs": [],
   "source": []
  },
  {
   "cell_type": "code",
   "execution_count": null,
   "id": "8a699f98-442c-48b8-8170-fe762fb42edf",
   "metadata": {},
   "outputs": [],
   "source": []
  },
  {
   "cell_type": "code",
   "execution_count": null,
   "id": "dc7fd7af-1671-4ddb-8d55-b47e091836df",
   "metadata": {},
   "outputs": [],
   "source": []
  },
  {
   "cell_type": "code",
   "execution_count": null,
   "id": "13106fd8-d249-48ad-8d74-31b6a8217c4f",
   "metadata": {},
   "outputs": [],
   "source": []
  },
  {
   "cell_type": "code",
   "execution_count": null,
   "id": "c70a9b2c-fec3-4456-a8a1-d03111926fec",
   "metadata": {},
   "outputs": [],
   "source": []
  },
  {
   "cell_type": "code",
   "execution_count": null,
   "id": "7718b864-5be1-4772-a23b-d4829d55218d",
   "metadata": {},
   "outputs": [],
   "source": []
  },
  {
   "cell_type": "code",
   "execution_count": null,
   "id": "5d4b37fb-3532-4b53-9978-a2330d143cf9",
   "metadata": {},
   "outputs": [],
   "source": []
  },
  {
   "cell_type": "code",
   "execution_count": null,
   "id": "a7007381-ae0e-407d-a317-6b43c7da7107",
   "metadata": {},
   "outputs": [],
   "source": []
  },
  {
   "cell_type": "code",
   "execution_count": null,
   "id": "7103d991-077b-483f-825f-0857d395bf6c",
   "metadata": {},
   "outputs": [],
   "source": []
  },
  {
   "cell_type": "code",
   "execution_count": null,
   "id": "94ec4678-a353-4a63-8304-9104cac38636",
   "metadata": {},
   "outputs": [],
   "source": []
  },
  {
   "cell_type": "code",
   "execution_count": null,
   "id": "038febbf-8dc8-4b1e-a872-8ba1ceaa58a0",
   "metadata": {},
   "outputs": [],
   "source": []
  },
  {
   "cell_type": "code",
   "execution_count": null,
   "id": "7c230981-cb4b-48ea-9d96-06f57bdc9bb7",
   "metadata": {},
   "outputs": [],
   "source": []
  },
  {
   "cell_type": "code",
   "execution_count": null,
   "id": "420b9535-7a2a-44af-aab1-2ad09e77b3ce",
   "metadata": {},
   "outputs": [],
   "source": []
  },
  {
   "cell_type": "code",
   "execution_count": null,
   "id": "d2f1b052-72f7-4478-a7f2-ef03a73e519c",
   "metadata": {},
   "outputs": [],
   "source": []
  },
  {
   "cell_type": "code",
   "execution_count": null,
   "id": "ff198410-c030-46fd-a727-a9a556667878",
   "metadata": {},
   "outputs": [],
   "source": []
  },
  {
   "cell_type": "code",
   "execution_count": null,
   "id": "f392c97d-d2be-450e-a6a3-6370a785cb65",
   "metadata": {},
   "outputs": [],
   "source": []
  },
  {
   "cell_type": "code",
   "execution_count": null,
   "id": "f2d9768c-8c86-4997-a8d4-1f24d008bf0e",
   "metadata": {},
   "outputs": [],
   "source": []
  },
  {
   "cell_type": "code",
   "execution_count": null,
   "id": "5372fc80-1caf-499d-b4b3-2c25e63ec5d4",
   "metadata": {},
   "outputs": [],
   "source": []
  },
  {
   "cell_type": "code",
   "execution_count": null,
   "id": "53ed8b68-c838-40ed-9ab3-6e4b4952334f",
   "metadata": {},
   "outputs": [],
   "source": []
  },
  {
   "cell_type": "code",
   "execution_count": null,
   "id": "a076e134-228c-4e2e-8e02-ad41877e8f86",
   "metadata": {},
   "outputs": [],
   "source": []
  },
  {
   "cell_type": "code",
   "execution_count": null,
   "id": "041bf730-1a0e-4ee3-8478-009669bb201f",
   "metadata": {},
   "outputs": [],
   "source": []
  },
  {
   "cell_type": "code",
   "execution_count": null,
   "id": "51157397-d4fa-4d5b-9e39-f58889f5f768",
   "metadata": {},
   "outputs": [],
   "source": []
  },
  {
   "cell_type": "code",
   "execution_count": null,
   "id": "40836910-a072-4420-a710-e846677c9a74",
   "metadata": {},
   "outputs": [],
   "source": []
  },
  {
   "cell_type": "code",
   "execution_count": null,
   "id": "5b91e452-bdec-4daa-992a-0d48b0a22e4a",
   "metadata": {},
   "outputs": [],
   "source": []
  },
  {
   "cell_type": "code",
   "execution_count": null,
   "id": "e3491a00-b69f-4e02-a437-022f155d4560",
   "metadata": {},
   "outputs": [],
   "source": []
  },
  {
   "cell_type": "code",
   "execution_count": null,
   "id": "30457dae-f770-41bf-b45f-353cf36ad8e1",
   "metadata": {},
   "outputs": [],
   "source": []
  },
  {
   "cell_type": "code",
   "execution_count": null,
   "id": "12e2a29a-df24-4812-8808-734dd2b5e89c",
   "metadata": {},
   "outputs": [],
   "source": []
  },
  {
   "cell_type": "code",
   "execution_count": null,
   "id": "0d8e8c46-8ea0-4e08-bc69-2dbc4f368ac1",
   "metadata": {},
   "outputs": [],
   "source": []
  },
  {
   "cell_type": "code",
   "execution_count": null,
   "id": "ed3b5f06-c03c-4fe8-9149-70011116e4d7",
   "metadata": {},
   "outputs": [],
   "source": []
  },
  {
   "cell_type": "code",
   "execution_count": null,
   "id": "1edf2b7a-9744-4dad-b2ea-1e0529967e8f",
   "metadata": {},
   "outputs": [],
   "source": []
  },
  {
   "cell_type": "code",
   "execution_count": null,
   "id": "ceb50ad4-a67b-4946-a878-e1e57dc70b8c",
   "metadata": {},
   "outputs": [],
   "source": []
  },
  {
   "cell_type": "code",
   "execution_count": null,
   "id": "77149752-be20-45df-81c8-e06b2ab3dfc1",
   "metadata": {},
   "outputs": [],
   "source": []
  },
  {
   "cell_type": "code",
   "execution_count": null,
   "id": "50c42349-e106-4cc7-9b6b-3820a4b0ca83",
   "metadata": {},
   "outputs": [],
   "source": []
  },
  {
   "cell_type": "code",
   "execution_count": null,
   "id": "cdbbf562-5c1c-4cd3-8398-ee53ceb4b884",
   "metadata": {},
   "outputs": [],
   "source": []
  },
  {
   "cell_type": "code",
   "execution_count": null,
   "id": "f5dd451b-f312-4bbc-9318-5b270877e19f",
   "metadata": {},
   "outputs": [],
   "source": []
  },
  {
   "cell_type": "code",
   "execution_count": null,
   "id": "ad5ab0ae-b1ae-4a32-8a93-34cacfb4253a",
   "metadata": {},
   "outputs": [],
   "source": []
  },
  {
   "cell_type": "code",
   "execution_count": null,
   "id": "b883b882-4129-465b-8abe-459678857ec8",
   "metadata": {},
   "outputs": [],
   "source": []
  },
  {
   "cell_type": "code",
   "execution_count": null,
   "id": "aaa4a2a5-3d26-4c22-b52e-7a1b05f5635f",
   "metadata": {},
   "outputs": [],
   "source": []
  },
  {
   "cell_type": "code",
   "execution_count": null,
   "id": "240e0d2b-1e74-4255-99a8-44f1ef4e47ba",
   "metadata": {},
   "outputs": [],
   "source": []
  },
  {
   "cell_type": "code",
   "execution_count": null,
   "id": "f5a0d025-d1e4-424d-9e11-ec3ccd567d89",
   "metadata": {},
   "outputs": [],
   "source": []
  },
  {
   "cell_type": "code",
   "execution_count": null,
   "id": "19bccdae-d5e1-4938-b849-28c24187a687",
   "metadata": {},
   "outputs": [],
   "source": []
  },
  {
   "cell_type": "code",
   "execution_count": null,
   "id": "e360ceee-aea7-4e58-94b9-fb5d339453ef",
   "metadata": {},
   "outputs": [],
   "source": []
  },
  {
   "cell_type": "code",
   "execution_count": null,
   "id": "595520de-b7ef-4a82-86d3-ebdea4175b43",
   "metadata": {},
   "outputs": [],
   "source": []
  },
  {
   "cell_type": "code",
   "execution_count": null,
   "id": "3051a474-6ad7-4659-83ef-e894a00017f1",
   "metadata": {},
   "outputs": [],
   "source": []
  },
  {
   "cell_type": "code",
   "execution_count": null,
   "id": "53537f8e-92d6-4878-a9a6-133bce4bb6b2",
   "metadata": {},
   "outputs": [],
   "source": []
  },
  {
   "cell_type": "code",
   "execution_count": null,
   "id": "6a5e3576-cbf2-4092-8f0f-4a8ab5b9ef8b",
   "metadata": {},
   "outputs": [],
   "source": []
  },
  {
   "cell_type": "code",
   "execution_count": null,
   "id": "467459a1-111b-4b9c-a001-2836c4686d1c",
   "metadata": {},
   "outputs": [],
   "source": []
  },
  {
   "cell_type": "code",
   "execution_count": null,
   "id": "9d0a4df9-097f-468e-97d8-92354486d620",
   "metadata": {},
   "outputs": [],
   "source": []
  },
  {
   "cell_type": "code",
   "execution_count": null,
   "id": "c6e44f7c-d507-4b19-9b25-564543cf5f28",
   "metadata": {},
   "outputs": [],
   "source": []
  },
  {
   "cell_type": "code",
   "execution_count": null,
   "id": "efa8b153-54ac-44a6-8c38-b42041060206",
   "metadata": {},
   "outputs": [],
   "source": []
  },
  {
   "cell_type": "code",
   "execution_count": null,
   "id": "5a5a519a-9772-4a1c-8baa-f54545fa8e05",
   "metadata": {},
   "outputs": [],
   "source": []
  },
  {
   "cell_type": "code",
   "execution_count": null,
   "id": "c6bc94a8-c00d-4cdb-b98c-989c14f6bddc",
   "metadata": {},
   "outputs": [],
   "source": []
  },
  {
   "cell_type": "code",
   "execution_count": null,
   "id": "3896fbaa-9b0d-4985-afa5-e16675f99079",
   "metadata": {},
   "outputs": [],
   "source": []
  },
  {
   "cell_type": "code",
   "execution_count": null,
   "id": "2cef0828-d9c2-4b70-816c-159a81f14f6f",
   "metadata": {},
   "outputs": [],
   "source": []
  },
  {
   "cell_type": "code",
   "execution_count": null,
   "id": "c68bb178-b68d-4d96-951a-75c6442b196f",
   "metadata": {},
   "outputs": [],
   "source": []
  },
  {
   "cell_type": "code",
   "execution_count": null,
   "id": "3b6716fd-5400-4fe0-9e10-4444fe9c2772",
   "metadata": {},
   "outputs": [],
   "source": []
  },
  {
   "cell_type": "code",
   "execution_count": null,
   "id": "801fb16f-baaa-4214-bfca-e92399f5c670",
   "metadata": {},
   "outputs": [],
   "source": []
  },
  {
   "cell_type": "code",
   "execution_count": null,
   "id": "bf12ea6e-9fbc-4e4e-9849-3eacc5f2cfd3",
   "metadata": {},
   "outputs": [],
   "source": []
  },
  {
   "cell_type": "code",
   "execution_count": null,
   "id": "63013449-691b-463e-8900-37a69d3c3034",
   "metadata": {},
   "outputs": [],
   "source": []
  },
  {
   "cell_type": "code",
   "execution_count": null,
   "id": "1b5a1d85-9acc-484a-bee3-70a6c6898a09",
   "metadata": {},
   "outputs": [],
   "source": []
  },
  {
   "cell_type": "code",
   "execution_count": null,
   "id": "483fd950-7e2c-4b84-9d1e-8e6d6cec05bb",
   "metadata": {},
   "outputs": [],
   "source": []
  },
  {
   "cell_type": "code",
   "execution_count": null,
   "id": "0ecb5703-690f-4a95-aafa-394e4000f415",
   "metadata": {},
   "outputs": [],
   "source": []
  },
  {
   "cell_type": "code",
   "execution_count": null,
   "id": "1bb2cb43-8043-4ba3-a092-166a05151400",
   "metadata": {},
   "outputs": [],
   "source": []
  },
  {
   "cell_type": "code",
   "execution_count": null,
   "id": "e47d4744-14dd-4214-be7f-286908a7bb3e",
   "metadata": {},
   "outputs": [],
   "source": []
  },
  {
   "cell_type": "code",
   "execution_count": null,
   "id": "86939119-1d28-4c5f-9159-5475192087e9",
   "metadata": {},
   "outputs": [],
   "source": []
  },
  {
   "cell_type": "code",
   "execution_count": null,
   "id": "5cc920ec-585d-4ddf-97d2-fa45e2c88122",
   "metadata": {},
   "outputs": [],
   "source": []
  },
  {
   "cell_type": "code",
   "execution_count": null,
   "id": "2b1789dd-dd50-4644-8d50-1e1f2a709d91",
   "metadata": {},
   "outputs": [],
   "source": []
  },
  {
   "cell_type": "code",
   "execution_count": null,
   "id": "d85d52a0-348f-4b9a-8ca0-46f66fa7abcb",
   "metadata": {},
   "outputs": [],
   "source": []
  },
  {
   "cell_type": "code",
   "execution_count": null,
   "id": "1d9dd4f9-f631-4216-a2db-92454011e412",
   "metadata": {},
   "outputs": [],
   "source": []
  },
  {
   "cell_type": "code",
   "execution_count": null,
   "id": "ad4d7de6-62fb-46dd-9cd5-ac5e97714512",
   "metadata": {},
   "outputs": [],
   "source": []
  },
  {
   "cell_type": "code",
   "execution_count": null,
   "id": "5867ea3f-6076-426b-9b47-419cb653aae4",
   "metadata": {},
   "outputs": [],
   "source": []
  },
  {
   "cell_type": "code",
   "execution_count": null,
   "id": "2d50bbab-1cd0-4644-8b38-d86913e59728",
   "metadata": {},
   "outputs": [],
   "source": []
  },
  {
   "cell_type": "code",
   "execution_count": null,
   "id": "b3913fdc-f7f1-41cd-9448-fcba04bc604c",
   "metadata": {},
   "outputs": [],
   "source": []
  },
  {
   "cell_type": "code",
   "execution_count": null,
   "id": "01a4ae97-1f4d-4e64-aa19-8cf5ae5a6945",
   "metadata": {},
   "outputs": [],
   "source": []
  },
  {
   "cell_type": "code",
   "execution_count": null,
   "id": "e2d02061-34c6-4369-8542-5637e38b4536",
   "metadata": {},
   "outputs": [],
   "source": []
  },
  {
   "cell_type": "code",
   "execution_count": null,
   "id": "b21c8f25-5fe7-4225-a711-33c2534f3197",
   "metadata": {},
   "outputs": [],
   "source": []
  },
  {
   "cell_type": "code",
   "execution_count": null,
   "id": "305830e6-9d6b-4e9a-889c-5353bcb28a26",
   "metadata": {},
   "outputs": [],
   "source": []
  },
  {
   "cell_type": "code",
   "execution_count": null,
   "id": "4da40e05-de4e-447a-835f-9e5095155999",
   "metadata": {},
   "outputs": [],
   "source": []
  },
  {
   "cell_type": "code",
   "execution_count": null,
   "id": "81156b0b-fd0d-4c4b-89b7-a18442f11b1e",
   "metadata": {},
   "outputs": [],
   "source": []
  },
  {
   "cell_type": "code",
   "execution_count": null,
   "id": "cbb64f06-f2f2-4b75-bba1-bc1cb43a535f",
   "metadata": {},
   "outputs": [],
   "source": []
  },
  {
   "cell_type": "code",
   "execution_count": null,
   "id": "adb37f7d-bdd4-4b92-83eb-ef343907e606",
   "metadata": {},
   "outputs": [],
   "source": []
  },
  {
   "cell_type": "code",
   "execution_count": null,
   "id": "6c1053a8-ef9e-42ed-9d9f-e385954afeee",
   "metadata": {},
   "outputs": [],
   "source": []
  },
  {
   "cell_type": "code",
   "execution_count": null,
   "id": "c35f2457-0ede-4717-884f-17e62e8216c1",
   "metadata": {},
   "outputs": [],
   "source": []
  },
  {
   "cell_type": "code",
   "execution_count": null,
   "id": "19eaa97b-6929-496f-acab-c692aee2bc30",
   "metadata": {},
   "outputs": [],
   "source": []
  },
  {
   "cell_type": "code",
   "execution_count": null,
   "id": "d621858f-f13e-4de3-ab5a-b8a90408d6c6",
   "metadata": {},
   "outputs": [],
   "source": []
  },
  {
   "cell_type": "code",
   "execution_count": null,
   "id": "0d15c1cf-9511-499b-b4f5-5c44bcb0e51d",
   "metadata": {},
   "outputs": [],
   "source": []
  },
  {
   "cell_type": "code",
   "execution_count": null,
   "id": "f8359cf8-0c45-41d9-92c4-91c17a26ec1d",
   "metadata": {},
   "outputs": [],
   "source": []
  },
  {
   "cell_type": "code",
   "execution_count": null,
   "id": "5cf39f3b-f318-498b-a3a1-250ea760d3af",
   "metadata": {},
   "outputs": [],
   "source": []
  },
  {
   "cell_type": "code",
   "execution_count": null,
   "id": "a9b61254-1973-4202-ae2f-908e3b56ead8",
   "metadata": {},
   "outputs": [],
   "source": []
  },
  {
   "cell_type": "code",
   "execution_count": null,
   "id": "51ce2477-2848-4ad2-85e8-4e581ef4bae4",
   "metadata": {},
   "outputs": [],
   "source": []
  },
  {
   "cell_type": "code",
   "execution_count": null,
   "id": "741cb7a8-2e4c-4500-9960-3fcbec79121e",
   "metadata": {},
   "outputs": [],
   "source": []
  },
  {
   "cell_type": "code",
   "execution_count": null,
   "id": "ff28f283-311d-4078-9e25-5d7c9b97108e",
   "metadata": {},
   "outputs": [],
   "source": []
  },
  {
   "cell_type": "code",
   "execution_count": null,
   "id": "69c46aa2-c25d-44ff-b150-ff3002f7d08b",
   "metadata": {},
   "outputs": [],
   "source": []
  },
  {
   "cell_type": "code",
   "execution_count": null,
   "id": "4e790c83-bb94-4077-ac4d-23049bf1807f",
   "metadata": {},
   "outputs": [],
   "source": []
  },
  {
   "cell_type": "code",
   "execution_count": null,
   "id": "50614e5d-de6b-44cb-a16f-56fa3f4ea11c",
   "metadata": {},
   "outputs": [],
   "source": []
  }
 ],
 "metadata": {
  "kernelspec": {
   "display_name": "Python 3 (ipykernel)",
   "language": "python",
   "name": "python3"
  },
  "language_info": {
   "codemirror_mode": {
    "name": "ipython",
    "version": 3
   },
   "file_extension": ".py",
   "mimetype": "text/x-python",
   "name": "python",
   "nbconvert_exporter": "python",
   "pygments_lexer": "ipython3",
   "version": "3.8.18"
  }
 },
 "nbformat": 4,
 "nbformat_minor": 5
}
